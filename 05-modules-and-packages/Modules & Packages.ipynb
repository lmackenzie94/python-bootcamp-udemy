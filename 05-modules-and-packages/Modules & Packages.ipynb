{
 "cells": [
  {
   "cell_type": "markdown",
   "metadata": {},
   "source": [
    "# Modules & Packages\n",
    "- **PyPi** is a repository for open-source 3rd party Python packages\n",
    "    - similar to RubyGems (Ruby), Packagist (PHP), CPAN (Perl), and NPM (Node.js)\n",
    "- use **pip install**\n",
    "    - pip comes with python.org download or Anaconda distribution\n",
    "- pip is a simple way to download packages at your command line directly from the PyPi repository\n",
    "- **modules** are just .py scripts that you call in another .py script\n",
    "- **packages** are collections of modules"
   ]
  },
  {
   "cell_type": "markdown",
   "metadata": {},
   "source": [
    "**NOTE:** Since Jupyter doesn't support .py files, see .py files in your Documents"
   ]
  },
  {
   "cell_type": "code",
   "execution_count": null,
   "metadata": {},
   "outputs": [],
   "source": []
  }
 ],
 "metadata": {
  "kernelspec": {
   "display_name": "Python 3",
   "language": "python",
   "name": "python3"
  },
  "language_info": {
   "codemirror_mode": {
    "name": "ipython",
    "version": 3
   },
   "file_extension": ".py",
   "mimetype": "text/x-python",
   "name": "python",
   "nbconvert_exporter": "python",
   "pygments_lexer": "ipython3",
   "version": "3.7.6"
  }
 },
 "nbformat": 4,
 "nbformat_minor": 4
}
